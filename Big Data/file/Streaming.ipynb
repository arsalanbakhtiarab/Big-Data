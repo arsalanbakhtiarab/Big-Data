{
 "cells": [
  {
   "cell_type": "code",
   "execution_count": 1,
   "id": "d309a17f-3f97-4850-9d1e-9ffcd257f1b0",
   "metadata": {},
   "outputs": [
    {
     "data": {
      "text/html": [
       "\n",
       "            <div>\n",
       "                <p><b>SparkSession - in-memory</b></p>\n",
       "                \n",
       "        <div>\n",
       "            <p><b>SparkContext</b></p>\n",
       "\n",
       "            <p><a href=\"http://DESKTOP-S1FT3E0:4040\">Spark UI</a></p>\n",
       "\n",
       "            <dl>\n",
       "              <dt>Version</dt>\n",
       "                <dd><code>v3.5.0</code></dd>\n",
       "              <dt>Master</dt>\n",
       "                <dd><code>local[*]</code></dd>\n",
       "              <dt>AppName</dt>\n",
       "                <dd><code>Spark Streming</code></dd>\n",
       "            </dl>\n",
       "        </div>\n",
       "        \n",
       "            </div>\n",
       "        "
      ],
      "text/plain": [
       "<pyspark.sql.session.SparkSession at 0x1a71e800320>"
      ]
     },
     "execution_count": 1,
     "metadata": {},
     "output_type": "execute_result"
    }
   ],
   "source": [
    "from pyspark.sql import SparkSession\n",
    "import pyspark.sql.functions as f\n",
    "import pyspark.sql.types as t\n",
    "spark = SparkSession.builder.appName(\"Spark Streming\").getOrCreate()\n",
    "spark"
   ]
  },
  {
   "cell_type": "code",
   "execution_count": 19,
   "id": "f22f2044-cbab-4c07-8dc7-c26bee78ce9d",
   "metadata": {},
   "outputs": [],
   "source": [
    "df = spark.read.csv(\"Transection.csv\",header = True, inferSchema=True)\n",
    "# df.show()"
   ]
  },
  {
   "cell_type": "code",
   "execution_count": 20,
   "id": "c5557e89-73cf-4c74-aa51-6ba4c6aad426",
   "metadata": {},
   "outputs": [
    {
     "data": {
      "text/plain": [
       "[Row(step=743, type='TRANSFER', amount=6311409.28, nameOrig='C1529008245', oldbalanceOrg=6311409.28, newbalanceOrig=0.0, nameDest='C1881841831', oldbalanceDest=0.0, newbalanceDest=0.0, isFraud=1, isFlaggedFraud=0),\n",
       " Row(step=743, type='CASH_OUT', amount=6311409.28, nameOrig='C1162922333', oldbalanceOrg=6311409.28, newbalanceOrig=0.0, nameDest='C1365125890', oldbalanceDest=68488.84, newbalanceDest=6379898.11, isFraud=1, isFlaggedFraud=0),\n",
       " Row(step=743, type='TRANSFER', amount=850002.52, nameOrig='C1685995037', oldbalanceOrg=850002.52, newbalanceOrig=0.0, nameDest='C2080388513', oldbalanceDest=0.0, newbalanceDest=0.0, isFraud=1, isFlaggedFraud=0),\n",
       " Row(step=743, type='CASH_OUT', amount=850002.52, nameOrig='C1280323807', oldbalanceOrg=850002.52, newbalanceOrig=0.0, nameDest='C873221189', oldbalanceDest=6510099.11, newbalanceDest=7360101.63, isFraud=1, isFlaggedFraud=0)]"
      ]
     },
     "execution_count": 20,
     "metadata": {},
     "output_type": "execute_result"
    }
   ],
   "source": [
    "df.tail(4)"
   ]
  },
  {
   "cell_type": "code",
   "execution_count": 21,
   "id": "dc188008-1701-49d8-8a3a-e2d224a40fd6",
   "metadata": {},
   "outputs": [
    {
     "data": {
      "text/plain": [
       "['step',\n",
       " 'type',\n",
       " 'amount',\n",
       " 'nameOrig',\n",
       " 'oldbalanceOrg',\n",
       " 'newbalanceOrig',\n",
       " 'nameDest',\n",
       " 'oldbalanceDest',\n",
       " 'newbalanceDest',\n",
       " 'isFraud',\n",
       " 'isFlaggedFraud']"
      ]
     },
     "execution_count": 21,
     "metadata": {},
     "output_type": "execute_result"
    }
   ],
   "source": [
    "df.columns"
   ]
  },
  {
   "cell_type": "code",
   "execution_count": 22,
   "id": "f0546a33-f141-4cbd-bb93-789a50ea44cd",
   "metadata": {},
   "outputs": [],
   "source": [
    "df = df.drop('isFraud','isFlaggedFraud')"
   ]
  },
  {
   "cell_type": "code",
   "execution_count": 23,
   "id": "1e5061c5-56dd-4c69-ad07-1730d559d966",
   "metadata": {},
   "outputs": [
    {
     "name": "stdout",
     "output_type": "stream",
     "text": [
      "+----+--------+---------+-----------+-------------+--------------+-----------+--------------+--------------+\n",
      "|step|    type|   amount|   nameOrig|oldbalanceOrg|newbalanceOrig|   nameDest|oldbalanceDest|newbalanceDest|\n",
      "+----+--------+---------+-----------+-------------+--------------+-----------+--------------+--------------+\n",
      "|   1| PAYMENT|  9839.64|C1231006815|     170136.0|     160296.36|M1979787155|           0.0|           0.0|\n",
      "|   1| PAYMENT|  1864.28|C1666544295|      21249.0|      19384.72|M2044282225|           0.0|           0.0|\n",
      "|   1|TRANSFER|    181.0|C1305486145|        181.0|           0.0| C553264065|           0.0|           0.0|\n",
      "|   1|CASH_OUT|    181.0| C840083671|        181.0|           0.0|  C38997010|       21182.0|           0.0|\n",
      "|   1| PAYMENT| 11668.14|C2048537720|      41554.0|      29885.86|M1230701703|           0.0|           0.0|\n",
      "|   1| PAYMENT|  7817.71|  C90045638|      53860.0|      46042.29| M573487274|           0.0|           0.0|\n",
      "|   1| PAYMENT|  7107.77| C154988899|     183195.0|     176087.23| M408069119|           0.0|           0.0|\n",
      "|   1| PAYMENT|  7861.64|C1912850431|    176087.23|     168225.59| M633326333|           0.0|           0.0|\n",
      "|   1| PAYMENT|  4024.36|C1265012928|       2671.0|           0.0|M1176932104|           0.0|           0.0|\n",
      "|   1|   DEBIT|  5337.77| C712410124|      41720.0|      36382.23| C195600860|       41898.0|      40348.79|\n",
      "|   1|   DEBIT|  9644.94|C1900366749|       4465.0|           0.0| C997608398|       10845.0|     157982.12|\n",
      "|   1| PAYMENT|  3099.97| C249177573|      20771.0|      17671.03|M2096539129|           0.0|           0.0|\n",
      "|   1| PAYMENT|  2560.74|C1648232591|       5070.0|       2509.26| M972865270|           0.0|           0.0|\n",
      "|   1| PAYMENT| 11633.76|C1716932897|      10127.0|           0.0| M801569151|           0.0|           0.0|\n",
      "|   1| PAYMENT|  4098.78|C1026483832|     503264.0|     499165.22|M1635378213|           0.0|           0.0|\n",
      "|   1|CASH_OUT|229133.94| C905080434|      15325.0|           0.0| C476402209|        5083.0|      51513.44|\n",
      "|   1| PAYMENT|  1563.82| C761750706|        450.0|           0.0|M1731217984|           0.0|           0.0|\n",
      "|   1| PAYMENT|  1157.86|C1237762639|      21156.0|      19998.14|M1877062907|           0.0|           0.0|\n",
      "|   1| PAYMENT|   671.64|C2033524545|      15123.0|      14451.36| M473053293|           0.0|           0.0|\n",
      "|   1|TRANSFER| 215310.3|C1670993182|        705.0|           0.0|C1100439041|       22425.0|           0.0|\n",
      "+----+--------+---------+-----------+-------------+--------------+-----------+--------------+--------------+\n",
      "only showing top 20 rows\n",
      "\n"
     ]
    }
   ],
   "source": [
    "df.show()"
   ]
  },
  {
   "cell_type": "markdown",
   "id": "5a4b19fc-b292-47ae-bfc3-97d85bda87fc",
   "metadata": {},
   "source": [
    "#### Step maps a unit of time in the real world. In this case 1 step in 1 hour of time. so we can assume for the this example that we have another job that runs every hour and gets all the transections o in that time frame"
   ]
  },
  {
   "cell_type": "code",
   "execution_count": 25,
   "id": "2ffd7c35-f009-43f8-9f82-ce219fc3818d",
   "metadata": {},
   "outputs": [
    {
     "name": "stdout",
     "output_type": "stream",
     "text": [
      "+----+-----+\n",
      "|step|count|\n",
      "+----+-----+\n",
      "|  12|36153|\n",
      "|   1| 2708|\n",
      "|  13|37515|\n",
      "+----+-----+\n",
      "only showing top 3 rows\n",
      "\n"
     ]
    }
   ],
   "source": [
    "df.groupBy('step').count().show(3)"
   ]
  },
  {
   "cell_type": "code",
   "execution_count": 26,
   "id": "49e74b92-518a-4647-86f9-e5544438eb1e",
   "metadata": {},
   "outputs": [],
   "source": [
    "steps = df.select('step').distinct().collect()"
   ]
  },
  {
   "cell_type": "code",
   "execution_count": 10,
   "id": "272abe11-5922-4e6c-b93b-f24a774a5edd",
   "metadata": {},
   "outputs": [],
   "source": [
    "# from pyspark.sql import SparkSession\n",
    "\n",
    "# # Assuming you have already created a SparkSession named 'spark'\n",
    "# # spark = SparkSession.builder.appName(\"YourAppName\").getOrCreate()\n",
    "\n",
    "# for step in steps[:]:\n",
    "#     _df = df.filter(f\"step = {step[0]}\")  # Correcting the where clause\n",
    "\n",
    "#     # Using repartition(1) to save the dataframe to a single CSV file\n",
    "#     _df.repartition(1).write.mode(\"append\").option(\"header\", \"true\").csv(r\"Data/Data\")\n"
   ]
  },
  {
   "cell_type": "code",
   "execution_count": 35,
   "id": "e8e583b4-23f5-43d0-bb8f-b09c5c7df9e0",
   "metadata": {},
   "outputs": [
    {
     "name": "stderr",
     "output_type": "stream",
     "text": [
      "'ls' is not recognized as an internal or external command,\n",
      "operable program or batch file.\n"
     ]
    }
   ],
   "source": [
    "!cd Data/Data && ls"
   ]
  },
  {
   "cell_type": "code",
   "execution_count": 37,
   "id": "efa11fc1-0e0e-4781-abbc-48dfc35f0650",
   "metadata": {},
   "outputs": [
    {
     "name": "stdout",
     "output_type": "stream",
     "text": [
      "+----+--------+---------+-----------+-------------+--------------+-----------+--------------+--------------+\n",
      "|step|    type|   amount|   nameOrig|oldbalanceOrg|newbalanceOrig|   nameDest|oldbalanceDest|newbalanceDest|\n",
      "+----+--------+---------+-----------+-------------+--------------+-----------+--------------+--------------+\n",
      "| 144| PAYMENT| 12248.73|C1175735940|      11670.0|           0.0|M1932164650|           0.0|           0.0|\n",
      "| 144|CASH_OUT|140995.09|C1534849700|          0.0|           0.0| C960557720|    3141468.33|    3282463.42|\n",
      "| 144|TRANSFER|612743.87| C160577338|    612743.87|           0.0| C162068560|           0.0|           0.0|\n",
      "| 144|CASH_OUT|612743.87|C1830172898|    612743.87|           0.0|C1813501651|     311807.53|     924551.41|\n",
      "| 144| PAYMENT|  4875.51|C1299042372|      48221.0|      43345.49|M1225254303|           0.0|           0.0|\n",
      "| 144| PAYMENT|  5876.43|C1370763362|      30110.0|      24233.57| M221889438|           0.0|           0.0|\n",
      "| 144|CASH_OUT| 33351.51| C787864973|      20255.0|           0.0|C2087047558|     515787.32|     549138.83|\n",
      "| 144|CASH_OUT|370025.36|C1479077585|          0.0|           0.0| C195065002|     642319.17|    1012344.54|\n",
      "| 144|CASH_OUT| 67697.78| C686809750|          0.0|           0.0|C1601608252|    2020810.51|    2088508.29|\n",
      "| 144|CASH_OUT| 77940.55|C1795813670|          0.0|           0.0| C949147684|    1398462.39|    1476402.94|\n",
      "| 144|CASH_OUT| 22695.59|C1804615807|          0.0|           0.0|C1304495746|     119943.73|     142639.33|\n",
      "| 144|CASH_OUT|154857.49|C1951495610|          0.0|           0.0|C1087953881|    1674488.68|    1829346.17|\n",
      "| 144|CASH_OUT|354800.75| C603833076|          0.0|           0.0|C1000157415|     634697.42|     989498.17|\n",
      "| 144|CASH_OUT|  45339.4| C131700588|          0.0|           0.0| C303300691|     371117.85|     416457.25|\n",
      "| 144|CASH_OUT|154251.04|C1856224336|          0.0|           0.0|C1860345616|     720496.77|     874747.81|\n",
      "| 144|CASH_OUT|124115.01| C287373467|          0.0|           0.0|C2008491207|     143740.05|     267855.06|\n",
      "| 144|CASH_OUT|272329.08|C1552376361|          0.0|           0.0|C1507788411|     307107.42|      579436.5|\n",
      "| 144|CASH_OUT| 157342.8| C388951074|          0.0|           0.0| C878511366| 1.875423196E7| 1.891157477E7|\n",
      "| 144|CASH_OUT| 35691.89|C1687983019|          0.0|           0.0| C832699329|     786564.56|     822256.45|\n",
      "| 144|CASH_OUT|  41223.6|C1928219523|          0.0|           0.0|C1051754452|     267028.65|     308252.25|\n",
      "+----+--------+---------+-----------+-------------+--------------+-----------+--------------+--------------+\n",
      "only showing top 20 rows\n",
      "\n"
     ]
    }
   ],
   "source": [
    "part = spark.read.csv(\n",
    "    # \"Data/Data/part-00000-00391bf8-1870-4460-830f-3a9834b9ec22-c000.csv\"\n",
    "    \"Data/Data/part-00000-0248b078-5b42-4741-a34d-41cbb7eca5e1-c000.csv\"\n",
    "    \n",
    "                      ,header = True, inferSchema=True)\n",
    "part.show()"
   ]
  },
  {
   "cell_type": "code",
   "execution_count": 38,
   "id": "595a6bd8-f49d-4025-a6d4-5e956ae39c52",
   "metadata": {},
   "outputs": [
    {
     "name": "stdout",
     "output_type": "stream",
     "text": [
      "+----+-----+\n",
      "|step|count|\n",
      "+----+-----+\n",
      "| 144| 3523|\n",
      "+----+-----+\n",
      "\n"
     ]
    }
   ],
   "source": [
    "part.groupBy('step').count().show(3)"
   ]
  },
  {
   "cell_type": "markdown",
   "id": "4a187b34-2ecc-45c6-b9fe-a8df3cde64e2",
   "metadata": {},
   "source": [
    "### creating the streaming versoin of input"
   ]
  },
  {
   "cell_type": "code",
   "execution_count": 42,
   "id": "ebbb879d-b636-4039-b536-468b3570e0f5",
   "metadata": {},
   "outputs": [],
   "source": [
    "dataSchema = part.schema"
   ]
  },
  {
   "cell_type": "code",
   "execution_count": 44,
   "id": "06ac5d16-5376-4bf4-868f-3049d587e678",
   "metadata": {},
   "outputs": [
    {
     "data": {
      "text/plain": [
       "StructType([StructField('step', IntegerType(), True), StructField('type', StringType(), True), StructField('amount', DoubleType(), True), StructField('nameOrig', StringType(), True), StructField('oldbalanceOrg', DoubleType(), True), StructField('newbalanceOrig', DoubleType(), True), StructField('nameDest', StringType(), True), StructField('oldbalanceDest', DoubleType(), True), StructField('newbalanceDest', DoubleType(), True)])"
      ]
     },
     "execution_count": 44,
     "metadata": {},
     "output_type": "execute_result"
    }
   ],
   "source": [
    "dataSchema"
   ]
  },
  {
   "cell_type": "code",
   "execution_count": 45,
   "id": "ac7343c3-936b-418e-8ce4-c96733fb873b",
   "metadata": {},
   "outputs": [],
   "source": [
    "streaming = (\n",
    "    spark.readStream.schema(dataSchema).option(\"maxFilesPerTrigger\",1).csv(\"Data/Data\")\n",
    ")"
   ]
  },
  {
   "cell_type": "code",
   "execution_count": 48,
   "id": "4b4305ce-2d09-4037-b492-c27d74163734",
   "metadata": {},
   "outputs": [],
   "source": [
    "dest_count = streaming.groupBy(\"nameDest\").count().orderBy(f.desc(\"count\"))"
   ]
  },
  {
   "cell_type": "code",
   "execution_count": null,
   "id": "b6513511-5a95-4170-91e6-d32908a854bc",
   "metadata": {},
   "outputs": [],
   "source": []
  }
 ],
 "metadata": {
  "kernelspec": {
   "display_name": "Python 3 (ipykernel)",
   "language": "python",
   "name": "python3"
  },
  "language_info": {
   "codemirror_mode": {
    "name": "ipython",
    "version": 3
   },
   "file_extension": ".py",
   "mimetype": "text/x-python",
   "name": "python",
   "nbconvert_exporter": "python",
   "pygments_lexer": "ipython3",
   "version": "3.12.0"
  }
 },
 "nbformat": 4,
 "nbformat_minor": 5
}
